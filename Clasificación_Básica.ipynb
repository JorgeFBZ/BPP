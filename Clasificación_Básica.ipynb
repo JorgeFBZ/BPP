{
  "nbformat": 4,
  "nbformat_minor": 0,
  "metadata": {
    "colab": {
      "name": "Clasificación Básica TF.ipynb",
      "provenance": [],
      "collapsed_sections": [],
      "authorship_tag": "ABX9TyMcLx5RUF0N1ZpWif/lzImq",
      "include_colab_link": true
    },
    "kernelspec": {
      "name": "python3",
      "display_name": "Python 3"
    },
    "language_info": {
      "name": "python"
    }
  },
  "cells": [
    {
      "cell_type": "markdown",
      "metadata": {
        "id": "view-in-github",
        "colab_type": "text"
      },
      "source": [
        "<a href=\"https://colab.research.google.com/github/JorgeFBZ/BPP/blob/main/Clasificaci%C3%B3n_B%C3%A1sica.ipynb\" target=\"_parent\"><img src=\"https://colab.research.google.com/assets/colab-badge.svg\" alt=\"Open In Colab\"/></a>"
      ]
    },
    {
      "cell_type": "markdown",
      "source": [
        "# **Tensor Flow:**\n",
        "##1- Clasificacion Basica. Predecir una imagen.\n",
        "Red neuronal para clasificar tipos de ropa. Fashion MNIST\n",
        "\n",
        "[texto del enlace](https://www.tensorflow.org/tutorials/keras/classification?hl=es-419)"
      ],
      "metadata": {
        "id": "z9b8pocrcsjb"
      }
    },
    {
      "cell_type": "code",
      "execution_count": 32,
      "metadata": {
        "colab": {
          "base_uri": "https://localhost:8080/"
        },
        "id": "WtBcJkkUcTDq",
        "outputId": "8ca7de6c-5cd3-41a6-c7a2-2c9b7ee81fec"
      },
      "outputs": [
        {
          "output_type": "stream",
          "name": "stdout",
          "text": [
            "2.8.0\n"
          ]
        }
      ],
      "source": [
        "# Importar librerías\n",
        "import tensorflow as tf\n",
        "from tensorflow import keras\n",
        "print (tf.__version__)\n",
        "\n",
        "# Libreías de secundarias:\n",
        "import matplotlib.pyplot as plt\n",
        "import numpy as np"
      ]
    },
    {
      "cell_type": "markdown",
      "source": [
        "##1- Cargamos el conjunto de datos:\n",
        "Descargamos el dataset Fashion MNIST incluido en Keras y creamos los conjuntos de entrenamiento y test.\n",
        "\n",
        "(4 np.array que contiene imagen + label)"
      ],
      "metadata": {
        "id": "75NlxszbeCDq"
      }
    },
    {
      "cell_type": "code",
      "source": [
        "fashion_mnist = keras.datasets.fashion_mnist\n",
        "# Crear coanjuntos de test y train:\n",
        "(train_img, train_label),(test_img, test_label)= fashion_mnist.load_data()"
      ],
      "metadata": {
        "id": "CXBTncMRehxd"
      },
      "execution_count": 33,
      "outputs": []
    },
    {
      "cell_type": "markdown",
      "source": [
        "Las etiquetas de las imagenes estan codificadas con numeros del 0 al 9.\n",
        "\n",
        "Para poder generar un resultado mas comprensible, creamos una lista con los nombres de las clases con la que mediante el indice de listas obtendremos el resultado de la clasificación."
      ],
      "metadata": {
        "id": "8ovp2Vfrfbem"
      }
    },
    {
      "cell_type": "code",
      "source": [
        "train_label"
      ],
      "metadata": {
        "colab": {
          "base_uri": "https://localhost:8080/"
        },
        "id": "Sv5gBrp2fYNb",
        "outputId": "29fddb32-0dff-43fe-da8f-d543c481cf25"
      },
      "execution_count": 34,
      "outputs": [
        {
          "output_type": "execute_result",
          "data": {
            "text/plain": [
              "array([9, 0, 0, ..., 3, 0, 5], dtype=uint8)"
            ]
          },
          "metadata": {},
          "execution_count": 34
        }
      ]
    },
    {
      "cell_type": "code",
      "source": [
        "class_names = ['T-shirt/top', 'Trouser', 'Pullover', 'Dress', 'Coat',\n",
        "               'Sandal', 'Shirt', 'Sneaker', 'Bag', 'Ankle boot']"
      ],
      "metadata": {
        "id": "et0d_8nIf-Qm"
      },
      "execution_count": 35,
      "outputs": []
    },
    {
      "cell_type": "markdown",
      "source": [
        "##2- Exploracion del set de datos:\n",
        "Visualizar las caracteristicas del dataset."
      ],
      "metadata": {
        "id": "-9I5igKWgPZW"
      }
    },
    {
      "cell_type": "code",
      "source": [
        "# Numero y resolucion de imagenes para entrenamiento:\n",
        "train_img.shape\n",
        "# 60000 imagenes de 28x28px"
      ],
      "metadata": {
        "colab": {
          "base_uri": "https://localhost:8080/"
        },
        "id": "iV_e8k56ghhQ",
        "outputId": "ac85eea3-0b78-4344-82b5-7e0672929d9b"
      },
      "execution_count": 36,
      "outputs": [
        {
          "output_type": "execute_result",
          "data": {
            "text/plain": [
              "(60000, 28, 28)"
            ]
          },
          "metadata": {},
          "execution_count": 36
        }
      ]
    },
    {
      "cell_type": "code",
      "source": [
        "# Numero de etiquetas para entrenamiento:\n",
        "len(train_label)"
      ],
      "metadata": {
        "colab": {
          "base_uri": "https://localhost:8080/"
        },
        "id": "d_IWFn55hSYM",
        "outputId": "1233cdd2-2baf-4d5e-fdde-c4c3cfbb3f4e"
      },
      "execution_count": 37,
      "outputs": [
        {
          "output_type": "execute_result",
          "data": {
            "text/plain": [
              "60000"
            ]
          },
          "metadata": {},
          "execution_count": 37
        }
      ]
    },
    {
      "cell_type": "code",
      "source": [
        "# Numero y resolucion de imagenes para test:\n",
        "test_img.shape\n",
        "# 10000 imagenes de 28x28px"
      ],
      "metadata": {
        "colab": {
          "base_uri": "https://localhost:8080/"
        },
        "id": "fBYjQN19g29h",
        "outputId": "13ccc785-a1f2-475d-b612-983a381378c6"
      },
      "execution_count": 38,
      "outputs": [
        {
          "output_type": "execute_result",
          "data": {
            "text/plain": [
              "(10000, 28, 28)"
            ]
          },
          "metadata": {},
          "execution_count": 38
        }
      ]
    },
    {
      "cell_type": "code",
      "source": [
        "# Numero de etiquetas para Test:\n",
        "len(test_label)"
      ],
      "metadata": {
        "colab": {
          "base_uri": "https://localhost:8080/"
        },
        "id": "NiAACl30hYqC",
        "outputId": "bf053770-957b-43c3-f85b-606659b7f49e"
      },
      "execution_count": 39,
      "outputs": [
        {
          "output_type": "execute_result",
          "data": {
            "text/plain": [
              "10000"
            ]
          },
          "metadata": {},
          "execution_count": 39
        }
      ]
    },
    {
      "cell_type": "markdown",
      "source": [
        "## Preprocesado de los datos:\n",
        "\n",
        "Las imagenes se encuentran con valores de los pixeles entre 0 y 255. Para procesar las imagenes en la red neuronal es necesario que los valores de los pixeles se encuentren entre 0 y 1.\n",
        "\n",
        "Para ello, dividimos la imagen entre 255.\n"
      ],
      "metadata": {
        "id": "JBypETo7hdts"
      }
    },
    {
      "cell_type": "code",
      "source": [
        "# Visualizacion de la primera imagen: --> Valores entre 0 y 255\n",
        "plt.figure()\n",
        "plt.imshow(train_img[0])\n",
        "plt.colorbar()\n",
        "plt.grid(False)\n",
        "plt.show()"
      ],
      "metadata": {
        "colab": {
          "base_uri": "https://localhost:8080/",
          "height": 265
        },
        "id": "1baxM7adh3Gg",
        "outputId": "90ef7a88-d5cd-4a9b-9470-e5967c0ad70e"
      },
      "execution_count": 40,
      "outputs": [
        {
          "output_type": "display_data",
          "data": {
            "text/plain": [
              "<Figure size 432x288 with 2 Axes>"
            ],
            "image/png": "[encoded data removed]"
          },
          "metadata": {
            "needs_background": "light"
          }
        }
      ]
    },
    {
      "cell_type": "code",
      "source": [
        "# Visualizacion de la primera imagen: --> Valores entre 0 y 1\n",
        "plt.figure()\n",
        "plt.imshow(train_img[0]/255)\n",
        "plt.colorbar()\n",
        "plt.grid(False)\n",
        "plt.show()"
      ],
      "metadata": {
        "colab": {
          "base_uri": "https://localhost:8080/",
          "height": 269
        },
        "id": "7nsoSINgiXEh",
        "outputId": "996da789-fc51-4c8f-a0f0-9ec6a57537b9"
      },
      "execution_count": 41,
      "outputs": [
        {
          "output_type": "display_data",
          "data": {
            "text/plain": [
              "<Figure size 432x288 with 2 Axes>"
            ],
            "image/png": "[encoded data removed]"
          },
          "metadata": {
            "needs_background": "light"
          }
        }
      ]
    },
    {
      "cell_type": "code",
      "source": [
        "# Modificar los valores de los pixeles de todas las imagenes.\n",
        "test_img = test_img/255\n",
        "train_img= train_img/255"
      ],
      "metadata": {
        "id": "AwEyfsnoigrE"
      },
      "execution_count": 42,
      "outputs": []
    },
    {
      "cell_type": "markdown",
      "source": [
        "## 3- Creación del modelo:\n",
        "Creamos el modelo con 3 capas:\n",
        "\n",
        "\n",
        "*   **Flatten**: Capa que transforma las imagenes en un array unidimensional (pasa de 28*28px a 784px) esta capa solo reformatea los datos de entrada.\n",
        "*   **Dense**:  estas dos capas estan densamente conectadas. La primera capa cuenta con 128 nodos. La ultima capa tiene 10 nodos para la clasificacion de la imagen (devuelve una probabilidad de pertenecia a cada una de las clases que suman 1)\n",
        "\n",
        "\n",
        "\n"
      ],
      "metadata": {
        "id": "9bCkLFlNjWF_"
      }
    },
    {
      "cell_type": "code",
      "source": [
        "model = keras.Sequential([\n",
        "                          keras.layers.Flatten(input_shape=(28,28)),\n",
        "                          keras.layers.Dense(128, activation=\"relu\"),\n",
        "                          keras.layers.Dense(10, activation=\"softmax\")\n",
        "])"
      ],
      "metadata": {
        "id": "a8XLm3SRlpKC"
      },
      "execution_count": 43,
      "outputs": []
    },
    {
      "cell_type": "markdown",
      "source": [
        "##4- Compilar el modelo:\n",
        "Configuracion del modelo para la compilacion:\n",
        "\n",
        "\n",
        "*   **Loss Funcition (funcion de perdida)**: Exactitud del modelo. Minimizar esta funcion para un mejor modelo.\n",
        "*   **Optimizer**: Como se actualiza el modelo en funcion de l Loss funiction y el dataset con el que esta siendo entrenado.\n",
        "*   **Metrics**: Monitorizacion del entrenamiento, obtiene parametros de exactitud, precision,etc.\n",
        "\n"
      ],
      "metadata": {
        "id": "JuQ2gvhVmLR6"
      }
    },
    {
      "cell_type": "code",
      "source": [
        "model.compile(optimizer='adam',\n",
        "              loss='sparse_categorical_crossentropy',\n",
        "              metrics = ['accuracy'])"
      ],
      "metadata": {
        "id": "UeF5Lcjkm8Mg"
      },
      "execution_count": 44,
      "outputs": []
    },
    {
      "cell_type": "markdown",
      "source": [
        "## 5- Entrenar el modelo:\n",
        "Para entrenar el modelo, introducimos en set de datos de entrenamiento con las etiquetas correspondientes. Con esto, el modelo aprende a asociar las imagenes con la etiqueta.\n",
        "\n",
        "Posteriormente, predecimos con el modelo el set de datos de test, esta vez sin introducir etiquetas, y comparamos los resultados para ajustar el modelo y evaluar la exactitud del mismo.\n"
      ],
      "metadata": {
        "id": "7J_DM34LnOxm"
      }
    },
    {
      "cell_type": "markdown",
      "source": [
        "**Forwardpropagation** proceso en el que la red neuronal (inicialmente con **W** y **b** aleatorios) procesa los datos de entrada para generar un resultado.\n",
        "\n",
        "\n",
        "**Backpropagation** proceso que optimiza la funcion de perdida mediante el calculo de gradientes de **W** y **b** para ver como afectan a la funcion de perdida. con cada iteracion se modifican los parametros **W** y **b**. Depende de los algoritmos de optimizacion.\n",
        "\n",
        "\n",
        "**Epoch** es el numero de ciclos forwardpropagarion-backpropagation que realiza el modelo para ajustar los pesos (**W** y **b**) de las neuronas."
      ],
      "metadata": {
        "id": "ti5i9C3NoiLM"
      }
    },
    {
      "cell_type": "code",
      "source": [
        "# Ajustar el modelo:\n",
        "model.fit(train_img, train_label, epochs=11)"
      ],
      "metadata": {
        "colab": {
          "base_uri": "https://localhost:8080/"
        },
        "id": "18aK6KlmoBhK",
        "outputId": "1793dbc0-55b8-42a6-dfc3-8b2b5dc2aff7"
      },
      "execution_count": 45,
      "outputs": [
        {
          "output_type": "stream",
          "name": "stdout",
          "text": [
            "Epoch 1/11\n",
            "1875/1875 [==============================] - 5s 3ms/step - loss: 0.5006 - accuracy: 0.8233\n",
            "Epoch 2/11\n",
            "1875/1875 [==============================] - 5s 3ms/step - loss: 0.3779 - accuracy: 0.8636\n",
            "Epoch 3/11\n",
            "1875/1875 [==============================] - 5s 2ms/step - loss: 0.3380 - accuracy: 0.8772\n",
            "Epoch 4/11\n",
            "1875/1875 [==============================] - 5s 3ms/step - loss: 0.3132 - accuracy: 0.8853\n",
            "Epoch 5/11\n",
            "1875/1875 [==============================] - 5s 3ms/step - loss: 0.2944 - accuracy: 0.8924\n",
            "Epoch 6/11\n",
            "1875/1875 [==============================] - 5s 2ms/step - loss: 0.2821 - accuracy: 0.8957\n",
            "Epoch 7/11\n",
            "1875/1875 [==============================] - 5s 3ms/step - loss: 0.2675 - accuracy: 0.9013\n",
            "Epoch 8/11\n",
            "1875/1875 [==============================] - 5s 2ms/step - loss: 0.2559 - accuracy: 0.9048\n",
            "Epoch 9/11\n",
            "1875/1875 [==============================] - 5s 2ms/step - loss: 0.2474 - accuracy: 0.9079\n",
            "Epoch 10/11\n",
            "1875/1875 [==============================] - 5s 2ms/step - loss: 0.2381 - accuracy: 0.9110\n",
            "Epoch 11/11\n",
            "1875/1875 [==============================] - 5s 2ms/step - loss: 0.2330 - accuracy: 0.9127\n"
          ]
        },
        {
          "output_type": "execute_result",
          "data": {
            "text/plain": [
              "<keras.callbacks.History at 0x7f3d620f4050>"
            ]
          },
          "metadata": {},
          "execution_count": 45
        }
      ]
    },
    {
      "cell_type": "markdown",
      "source": [
        "###Evaluar el modelo:"
      ],
      "metadata": {
        "id": "ZMq52aY1s8dX"
      }
    },
    {
      "cell_type": "code",
      "source": [
        "test_loss, test_acc = model.evaluate(test_img, test_label, verbose= 2)\n",
        "print ('\\nTest accuracy:', test_acc)"
      ],
      "metadata": {
        "colab": {
          "base_uri": "https://localhost:8080/"
        },
        "id": "w5OI_is4s8K2",
        "outputId": "fd5c5b40-a402-4348-b9b4-3d01438eae3c"
      },
      "execution_count": 46,
      "outputs": [
        {
          "output_type": "stream",
          "name": "stdout",
          "text": [
            "313/313 - 1s - loss: 0.3373 - accuracy: 0.8811 - 578ms/epoch - 2ms/step\n",
            "\n",
            "Test accuracy: 0.8810999989509583\n"
          ]
        }
      ]
    },
    {
      "cell_type": "markdown",
      "source": [
        "La exactitud sobre el set de datos es menor que la del set de entrenamiento debido al sobreajuste (overfitting). El modelo tiene un peor rendimento sobre un set de datos nuevo"
      ],
      "metadata": {
        "id": "FFrxcL1TtXDo"
      }
    },
    {
      "cell_type": "markdown",
      "source": [
        "## 6- Hacer predicciones:\n"
      ],
      "metadata": {
        "id": "AFeiu5IWt5TT"
      }
    },
    {
      "cell_type": "code",
      "source": [
        "predictions = model.predict(test_img)"
      ],
      "metadata": {
        "id": "nmhsNLO8t4vv"
      },
      "execution_count": 47,
      "outputs": []
    },
    {
      "cell_type": "code",
      "source": [
        "predictions[0]"
      ],
      "metadata": {
        "colab": {
          "base_uri": "https://localhost:8080/"
        },
        "id": "JOChXM_7uE2w",
        "outputId": "ed319204-ebb8-4529-d307-72b1f570dce1"
      },
      "execution_count": 48,
      "outputs": [
        {
          "output_type": "execute_result",
          "data": {
            "text/plain": [
              "array([3.7631980e-07, 7.7915253e-08, 1.6136089e-07, 1.1999445e-07,\n",
              "       9.0006392e-07, 4.1049784e-03, 7.0056981e-06, 2.0117098e-02,\n",
              "       1.6284217e-07, 9.7576910e-01], dtype=float32)"
            ]
          },
          "metadata": {},
          "execution_count": 48
        }
      ]
    },
    {
      "cell_type": "markdown",
      "source": [
        "El modelo devuelve un array que contiene la probabilidad de pertenencia a una de las 10 clases."
      ],
      "metadata": {
        "id": "BdwY5JzXuJrM"
      }
    },
    {
      "cell_type": "code",
      "source": [
        "class_names[np.argmax(predictions[0])]"
      ],
      "metadata": {
        "colab": {
          "base_uri": "https://localhost:8080/",
          "height": 35
        },
        "id": "_6HN9dnsub2h",
        "outputId": "be9e74f3-5e9c-4d10-f0c7-c9ebbeb48aed"
      },
      "execution_count": 49,
      "outputs": [
        {
          "output_type": "execute_result",
          "data": {
            "text/plain": [
              "'Ankle boot'"
            ],
            "application/vnd.google.colaboratory.intrinsic+json": {
              "type": "string"
            }
          },
          "metadata": {},
          "execution_count": 49
        }
      ]
    },
    {
      "cell_type": "markdown",
      "source": [
        "### Graficos con la predicicon de las clases:"
      ],
      "metadata": {
        "id": "1vzgCxjlurVP"
      }
    },
    {
      "cell_type": "code",
      "source": [
        "def plot_image(i, predictions_array, true_label, img):\n",
        "  predictions_array, true_label, img = predictions_array, true_label[i], img[i]\n",
        "  plt.grid(False)\n",
        "  plt.xticks([])\n",
        "  plt.yticks([])\n",
        "\n",
        "  plt.imshow(img, cmap=plt.cm.binary)\n",
        "\n",
        "  predicted_label = np.argmax(predictions_array)\n",
        "  if predicted_label == true_label:\n",
        "    color = 'blue'\n",
        "  else:\n",
        "    color = 'red'\n",
        "\n",
        "  plt.xlabel(\"{} {:2.0f}% ({})\".format(class_names[predicted_label],\n",
        "                                100*np.max(predictions_array),\n",
        "                                class_names[true_label]),\n",
        "                                color=color)\n",
        "\n",
        "def plot_value_array(i, predictions_array, true_label):\n",
        "  predictions_array, true_label = predictions_array, true_label[i]\n",
        "  plt.grid(False)\n",
        "  plt.xticks(range(10))\n",
        "  plt.yticks([])\n",
        "  thisplot = plt.bar(range(10), predictions_array, color=\"#777777\")\n",
        "  plt.ylim([0, 1])\n",
        "  predicted_label = np.argmax(predictions_array)\n",
        "\n",
        "  thisplot[predicted_label].set_color('red')\n",
        "  thisplot[true_label].set_color('blue')"
      ],
      "metadata": {
        "id": "9kOHcr8fuvZj"
      },
      "execution_count": 50,
      "outputs": []
    },
    {
      "cell_type": "code",
      "source": [
        "i = 0 ## Numero de imagen a visualizar\n",
        "plt.figure(figsize=(6,3))\n",
        "plt.subplot(1,2,1)\n",
        "plot_image(i, predictions[i], test_label, test_img)\n",
        "plt.subplot(1,2,2)\n",
        "plot_value_array(i, predictions[i], test_label)\n",
        "plt.show()\n"
      ],
      "metadata": {
        "colab": {
          "base_uri": "https://localhost:8080/",
          "height": 211
        },
        "id": "uJonCIlCu3jJ",
        "outputId": "5238497e-ab57-4250-f5ea-ec01ee4b6733"
      },
      "execution_count": 51,
      "outputs": [
        {
          "output_type": "display_data",
          "data": {
            "text/plain": [
              "<Figure size 432x216 with 2 Axes>"
            ],
            "image/png": "[encoded data removed]"
          },
          "metadata": {
            "needs_background": "light"
          }
        }
      ]
    },
    {
      "cell_type": "code",
      "source": [
        "i = 12 ## Numero de imagen a visualizar\n",
        "plt.figure(figsize=(6,3))\n",
        "plt.subplot(1,2,1)\n",
        "plot_image(i, predictions[i], test_label, test_img)\n",
        "plt.subplot(1,2,2)\n",
        "plot_value_array(i, predictions[i], test_label)\n",
        "plt.show()\n"
      ],
      "metadata": {
        "colab": {
          "base_uri": "https://localhost:8080/",
          "height": 211
        },
        "outputId": "71536202-8d76-42e8-f95b-cb1ec2571a49",
        "id": "Wz5WuLeNvivw"
      },
      "execution_count": 52,
      "outputs": [
        {
          "output_type": "display_data",
          "data": {
            "text/plain": [
              "<Figure size 432x216 with 2 Axes>"
            ],
            "image/png": "[encoded data removed]"
          },
          "metadata": {
            "needs_background": "light"
          }
        }
      ]
    },
    {
      "cell_type": "code",
      "source": [
        "# Plot the first X test images, their predicted labels, and the true labels.\n",
        "# Color correct predictions in blue and incorrect predictions in red.\n",
        "num_rows = 5\n",
        "num_cols = 3\n",
        "num_images = num_rows*num_cols\n",
        "plt.figure(figsize=(2*2*num_cols, 2*num_rows))\n",
        "for i in range(num_images):\n",
        "  plt.subplot(num_rows, 2*num_cols, 2*i+1)\n",
        "  plot_image(i, predictions[i], test_label, test_img)\n",
        "  plt.subplot(num_rows, 2*num_cols, 2*i+2)\n",
        "  plot_value_array(i, predictions[i], test_label)\n",
        "plt.tight_layout()\n",
        "plt.show()"
      ],
      "metadata": {
        "colab": {
          "base_uri": "https://localhost:8080/",
          "height": 729
        },
        "id": "uhDSmkKZwQol",
        "outputId": "bdb130c5-fe91-4935-9d0c-53db36da3ef2"
      },
      "execution_count": 54,
      "outputs": [
        {
          "output_type": "display_data",
          "data": {
            "text/plain": [
              "<Figure size 864x720 with 30 Axes>"
            ],
            "image/png": "[encoded data removed]"
          },
          "metadata": {
            "needs_background": "light"
          }
        }
      ]
    }
  ]
}